{
 "metadata": {
  "language_info": {
   "codemirror_mode": {
    "name": "ipython",
    "version": 3
   },
   "file_extension": ".py",
   "mimetype": "text/x-python",
   "name": "python",
   "nbconvert_exporter": "python",
   "pygments_lexer": "ipython3",
   "version": "3.7.3-final"
  },
  "orig_nbformat": 2,
  "kernelspec": {
   "name": "python_defaultSpec_1599538300401",
   "display_name": "Python 3.7.3 64-bit ('base': conda)"
  }
 },
 "nbformat": 4,
 "nbformat_minor": 2,
 "cells": [
  {
   "cell_type": "markdown",
   "metadata": {},
   "source": [
    "# Update 2D line charts in 3D space\n",
    "\n",
    "- steps:\n",
    "\n",
    "    - loop:\n",
    "        \n",
    "        - clear previous figure\n",
    "        - generate demo 2D data\n",
    "        - display 2D line charts in 3D space \n",
    "\n",
    "- resources:\n",
    "\n",
    "    - mplot3d tutorial: https://matplotlib.org/mpl_toolkits/mplot3d/tutorial.html"
   ]
  },
  {
   "cell_type": "code",
   "execution_count": 2,
   "metadata": {
    "tags": []
   },
   "outputs": [
    {
     "output_type": "stream",
     "name": "stdout",
     "text": "library imported\n"
    }
   ],
   "source": [
    "import numpy as np # to generate random data\n",
    "import matplotlib.pyplot as plt # to create figures\n",
    "from mpl_toolkits.mplot3d import Axes3D  # to create 3D figure\n",
    "\n",
    "# just for styling (optional)\n",
    "plt.style.use('seaborn-colorblind') \n",
    "plt.style.use('seaborn-whitegrid')\n",
    "\n",
    "print('library imported')"
   ]
  },
  {
   "cell_type": "code",
   "execution_count": 3,
   "metadata": {},
   "outputs": [],
   "source": [
    "# to plot figure in new window (this allows user intaraction such as rotation of the graph)\n",
    "# use %matplotlib qt\n",
    "# to plot figure in jupyter cell, use %matplotlib inline\n",
    "%matplotlib qt"
   ]
  },
  {
   "cell_type": "markdown",
   "metadata": {},
   "source": [
    "When the cell below is excuted, new figure window is created and updated with specified `FRAMES`. Check `images/2d-live-charts-in-3d.mp4` for demo."
   ]
  },
  {
   "cell_type": "code",
   "execution_count": 12,
   "metadata": {},
   "outputs": [],
   "source": [
    "# generating test data\n",
    "CHARTS_AMOUNT = 10 # how many 2d charts to display\n",
    "CHARTS_LENGTH = 100 # number of each 2d chart's data points\n",
    "\n",
    "FRAMES = 100 # how many figure update \n",
    "\n",
    "# figure object is shared with multiple frames\n",
    "fig = plt.figure(figsize=(12, 12))\n",
    "ax = Axes3D(fig) # making 3D figure\n",
    "\n",
    "X_INIT_ANGLE = 53\n",
    "Y_INIT_ANGLE = -30\n",
    "ax.view_init(X_INIT_ANGLE, Y_INIT_ANGLE)\n",
    "\n",
    "for i in range(FRAMES):\n",
    "\n",
    "    test_data_matrix = np.random.rand(CHARTS_AMOUNT, CHARTS_LENGTH) # change this with actual data!\n",
    "\n",
    "    # calcurating grid array (if data shape is constant, you can put this outside of the loop)\n",
    "    x = np.arange(test_data_matrix.shape[1]) # CHARTS_LENGTH\n",
    "    y = np.arange(test_data_matrix.shape[0]) # CHARTS_AMOUNT\n",
    "    gx, gy = np.meshgrid(x, y)\n",
    "\n",
    "    ax.plot_wireframe(gx, gy, test_data_matrix, rstride=1, cstride=0)\n",
    "\n",
    "    # adjust figure appearence\n",
    "    plt.title(f'current frame: {i}')\n",
    "    ax.set_zlim(-2, 3)\n",
    "    ax.set_xlabel('x CHARTS_LENGTH')\n",
    "    ax.set_ylabel('y CHARTS_AMOUNT')\n",
    "    ax.set_zlabel('z')\n",
    "\n",
    "    # display live figures\n",
    "    plt.draw() \n",
    "    plt.pause(0.1) # display\n",
    "    plt.cla() # clear previous plot\n"
   ]
  },
  {
   "cell_type": "code",
   "execution_count": null,
   "metadata": {},
   "outputs": [],
   "source": []
  }
 ]
}