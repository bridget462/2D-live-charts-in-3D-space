{
 "metadata": {
  "language_info": {
   "codemirror_mode": {
    "name": "ipython",
    "version": 3
   },
   "file_extension": ".py",
   "mimetype": "text/x-python",
   "name": "python",
   "nbconvert_exporter": "python",
   "pygments_lexer": "ipython3",
   "version": "3.7.3-final"
  },
  "orig_nbformat": 2,
  "kernelspec": {
   "name": "python_defaultSpec_1599536449348",
   "display_name": "Python 3.7.3 64-bit ('base': conda)"
  }
 },
 "nbformat": 4,
 "nbformat_minor": 2,
 "cells": [
  {
   "cell_type": "markdown",
   "metadata": {},
   "source": [
    "# 2D live line charts with 3D space using `matplotlib` \n",
    "\n",
    "- steps:\n",
    "\n",
    "    - generate demo 2D data\n",
    "    - display 2D line charts in 3D space \n",
    "    - update data & charts in realtime\n",
    "\n",
    "- resources:\n",
    "\n",
    "    - mplot3d tutorial: https://matplotlib.org/mpl_toolkits/mplot3d/tutorial.html"
   ]
  },
  {
   "cell_type": "markdown",
   "metadata": {},
   "source": [
    "## Generate random 2D data and plot with `matplotlib`"
   ]
  },
  {
   "cell_type": "code",
   "execution_count": 1,
   "metadata": {
    "tags": []
   },
   "outputs": [
    {
     "output_type": "stream",
     "name": "stdout",
     "text": "library imported\n"
    }
   ],
   "source": [
    "import numpy as np # to generate random data\n",
    "import matplotlib.pyplot as plt # to create figures\n",
    "from mpl_toolkits.mplot3d import Axes3D  # to create 3D figure\n",
    "\n",
    "# just for styling (optional)\n",
    "plt.style.use('seaborn-colorblind') \n",
    "plt.style.use('seaborn-whitegrid')\n",
    "\n",
    "print('library imported')"
   ]
  },
  {
   "cell_type": "code",
   "execution_count": 12,
   "metadata": {},
   "outputs": [
    {
     "output_type": "execute_result",
     "data": {
      "text/plain": "((10, 100), (10, 100), (10, 100))"
     },
     "metadata": {},
     "execution_count": 12
    }
   ],
   "source": [
    "# generating test data\n",
    "CHARTS_AMOUNT = 10 # how many 2d charts to display\n",
    "CHARTS_LENGTH = 100 # number of each 2d chart's data points\n",
    "test_data_matrix = np.random.rand(CHARTS_AMOUNT, CHARTS_LENGTH)\n",
    "\n",
    "# calcurating grid array\n",
    "x = np.arange(test_data_matrix.shape[1])\n",
    "y = np.arange(test_data_matrix.shape[0])\n",
    "gx, gy = np.meshgrid(x, y)\n",
    "\n",
    "# checking data shapes\n",
    "test_data_matrix.shape, gx.shape, gy.shape # they should match\n"
   ]
  },
  {
   "cell_type": "code",
   "execution_count": 14,
   "metadata": {},
   "outputs": [],
   "source": [
    "# create 3D figure\n",
    "# to plot figure in new window (this allows user intaraction such as rotation of the graph)\n",
    "# use %matplotlib qt\n",
    "%matplotlib qt\n",
    "\n",
    "fig = plt.figure()\n",
    "ax = Axes3D(fig) # making 3D figure\n",
    "\n",
    "# plot data\n",
    "ax.plot_wireframe(gx, gy, test_data_matrix, rstride=1, cstride=0)\n",
    "\n",
    "# display figure\n",
    "plt.show()\n"
   ]
  },
  {
   "cell_type": "code",
   "execution_count": null,
   "metadata": {},
   "outputs": [],
   "source": []
  }
 ]
}