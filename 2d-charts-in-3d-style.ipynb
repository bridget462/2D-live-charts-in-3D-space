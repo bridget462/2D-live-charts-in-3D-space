{
 "metadata": {
  "language_info": {
   "codemirror_mode": {
    "name": "ipython",
    "version": 3
   },
   "file_extension": ".py",
   "mimetype": "text/x-python",
   "name": "python",
   "nbconvert_exporter": "python",
   "pygments_lexer": "ipython3",
   "version": "3.7.3-final"
  },
  "orig_nbformat": 2,
  "kernelspec": {
   "name": "python_defaultSpec_1599563545219",
   "display_name": "Python 3.7.3 64-bit ('base': conda)"
  }
 },
 "nbformat": 4,
 "nbformat_minor": 2,
 "cells": [
  {
   "cell_type": "markdown",
   "metadata": {},
   "source": [
    "# Modefy 3D figure styles"
   ]
  },
  {
   "cell_type": "code",
   "execution_count": 1,
   "metadata": {
    "tags": []
   },
   "outputs": [
    {
     "output_type": "stream",
     "name": "stdout",
     "text": "library imported\n"
    }
   ],
   "source": [
    "import numpy as np # to generate random data\n",
    "import matplotlib.pyplot as plt # to create figures\n",
    "from mpl_toolkits.mplot3d import Axes3D  # to create 3D figure\n",
    "\n",
    "# just for styling (optional)\n",
    "plt.style.use('dark_background')\n",
    "\n",
    "print('library imported')\n",
    "\n",
    "# generating test data\n",
    "CHARTS_AMOUNT = 8 # how many 2d charts to display\n",
    "CHARTS_LENGTH = 100 # number of each 2d chart's data points\n",
    "test_data_matrix = np.random.rand(CHARTS_AMOUNT, CHARTS_LENGTH) # change this with actual data!\n",
    "\n",
    "# calcurating grid array\n",
    "x = np.arange(test_data_matrix.shape[1]) # CHARTS_LENGTH\n",
    "y = np.arange(test_data_matrix.shape[0]) # CHARTS_AMOUNT\n",
    "gx, gy = np.meshgrid(x, y)"
   ]
  },
  {
   "cell_type": "code",
   "execution_count": 8,
   "metadata": {},
   "outputs": [],
   "source": [
    "# use %matplotlib inline or qt\n",
    "%matplotlib qt"
   ]
  },
  {
   "cell_type": "code",
   "execution_count": 9,
   "metadata": {},
   "outputs": [],
   "source": [
    "# for figure appearence\n",
    "plt.rcParams.update({\n",
    "    'figure.figsize': [12, 12],\n",
    "    'grid.color': '#1C3240',\n",
    "    'grid.alpha': 0.1,\n",
    "    'toolbar': 'None',\n",
    "    'axes.edgecolor': '#C0BDBD', # background color\n",
    "    'axes.facecolor': 'none',\n",
    "    'xtick.color': '#6E6F72',\n",
    "    'ytick.color': '#6E6F72',\n",
    "    'axes.labelcolor': '#C0BDBD',\n",
    "})\n",
    "\n",
    "font = {'family' : 'arial',\n",
    "        'weight' : '700',\n",
    "        'size'   : 16}\n",
    "plt.rc('font', **font)\n"
   ]
  },
  {
   "cell_type": "code",
   "execution_count": 10,
   "metadata": {},
   "outputs": [],
   "source": [
    "fig = plt.figure()\n",
    "ax = Axes3D(fig) # making 3D figure\n",
    "\n",
    "X_INIT_ANGLE = 53\n",
    "Y_INIT_ANGLE = -30\n",
    "ax.view_init(X_INIT_ANGLE, Y_INIT_ANGLE)\n",
    "\n",
    "# remove background \n",
    "ax.w_xaxis.set_pane_color((0., 0., 0., 0.))\n",
    "ax.w_yaxis.set_pane_color((0., 0., 0., 0.))\n",
    "ax.w_zaxis.set_pane_color((0., 0., 0., 0.))\n",
    "\n",
    "# plot data \n",
    "# rstride=1 to connect data points in x axes direction\n",
    "# cstride=0 not to connect data in y axes direction ()\n",
    "ax.plot_wireframe(gx, gy, test_data_matrix, rstride=1, cstride=0, color='#00CC96', alpha=0.8)\n",
    "\n",
    "# adjust figure appearence\n",
    "ax.set_zlim(-1, 2)\n",
    "ax.set_xlabel('\\n\\nx CHARTS_LENGTH')\n",
    "ax.set_ylabel('\\n\\ny CHARTS_AMOUNT')\n",
    "ax.set_zlabel('z')\n",
    "\n",
    "# display figure\n",
    "plt.savefig('./images/2d-charts-in-3d-styled.png', dpi=400, bbox_inches='tight')\n",
    "# plt.show()\n"
   ]
  },
  {
   "cell_type": "code",
   "execution_count": null,
   "metadata": {},
   "outputs": [],
   "source": []
  }
 ]
}